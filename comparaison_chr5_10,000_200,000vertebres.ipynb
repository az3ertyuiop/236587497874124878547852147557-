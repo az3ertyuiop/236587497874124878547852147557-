{
  "nbformat": 4,
  "nbformat_minor": 0,
  "metadata": {
    "colab": {
      "provenance": [],
      "authorship_tag": "ABX9TyPAlHjuqgq6Gc2gGGv6bAd1",
      "include_colab_link": true
    },
    "kernelspec": {
      "name": "python3",
      "display_name": "Python 3"
    },
    "language_info": {
      "name": "python"
    }
  },
  "cells": [
    {
      "cell_type": "markdown",
      "metadata": {
        "id": "view-in-github",
        "colab_type": "text"
      },
      "source": [
        "<a href=\"https://colab.research.google.com/github/az3ertyuiop/236587497874124878547852147557-/blob/gc/comparaison_chr5_10%2C000_200%2C000vertebres.ipynb\" target=\"_parent\"><img src=\"https://colab.research.google.com/assets/colab-badge.svg\" alt=\"Open In Colab\"/></a>"
      ]
    },
    {
      "cell_type": "code",
      "source": [
        "from google.colab import drive\n",
        "drive.mount('/content/drive')"
      ],
      "metadata": {
        "colab": {
          "base_uri": "https://localhost:8080/"
        },
        "id": "qUOswM3-cpui",
        "outputId": "a691523b-6700-4eb9-c785-28f49ccfb779"
      },
      "execution_count": 2,
      "outputs": [
        {
          "output_type": "stream",
          "name": "stdout",
          "text": [
            "Mounted at /content/drive\n"
          ]
        }
      ]
    },
    {
      "cell_type": "markdown",
      "source": [
        "On cherche à curl les différents types d'ARN présents dans la region 10000:200 000 du chromosome 5 des vertébrés afin d'en faire une analyse via python (analyse par composante principale ou régression linéraire/stats)."
      ],
      "metadata": {
        "id": "w77TI4d5TQ4s"
      }
    },
    {
      "cell_type": "code",
      "execution_count": null,
      "metadata": {
        "colab": {
          "base_uri": "https://localhost:8080/"
        },
        "id": "cpsndJqPTQJ3",
        "outputId": "bc144751-2d6f-48ed-b2ed-5993e3b543a2"
      },
      "outputs": [
        {
          "output_type": "stream",
          "name": "stdout",
          "text": [
            "lncRNA\n",
            "piRNA\n",
            "sRNA\n",
            "Y_RNA\n"
          ]
        },
        {
          "output_type": "execute_result",
          "data": {
            "text/plain": []
          },
          "metadata": {},
          "execution_count": 36
        }
      ],
      "source": [
        "%%shell\n",
        "\n",
        "curl -s \"https://rnacentral.org/api/v1/overlap/region/homo_sapiens/5:10,000-200,000\" | sed -E 's/[{.*,}]/\\n/g' | egrep \"biotype\" | cut -d \":\" -f 2 | sort | uniq | sed -E 's/^\"(.*[^\"])\"$/\\1/g'\n",
        "#la cmd ci-dessus permet d'obtenir les différents types d'ARN transcrits dans la région 10,000-200,000 du chromosome 5 d'H.Sapiens.\n"
      ]
    },
    {
      "cell_type": "markdown",
      "source": [
        "Cette commande va nous servir de base afin d'automatiser l'obtention des différents types d'ARN de cette région selon différents organismes\n"
      ],
      "metadata": {
        "id": "cpufz6LKVqlo"
      }
    },
    {
      "cell_type": "code",
      "source": [
        "%%shell\n",
        "curl -s https://rnacentral.org/help/genomic-mapping#species-with-genomic-mapping | egrep \"?species=\" | tr -d \" \" | cut -d \"=\" -f 3 | sed -E 's/([a-z_]*).*/\\1/g' >> /content/drive/MyDrive/liste_sp_mappees-rnacentral.txt\n",
        "\n",
        "\n",
        "#on récupère tout les organismes dont le génome est mappé sur rnacentral.\n",
        "#on peut ainsi en faire une liste et utiliser cette liste dans la première commande à l'aide de \"xargs\""
      ],
      "metadata": {
        "colab": {
          "base_uri": "https://localhost:8080/"
        },
        "id": "WtJ5mAudXo10",
        "outputId": "b9205ce6-31d7-4049-893f-f10c3af4f611"
      },
      "execution_count": null,
      "outputs": [
        {
          "output_type": "execute_result",
          "data": {
            "text/plain": []
          },
          "metadata": {},
          "execution_count": 43
        }
      ]
    },
    {
      "cell_type": "code",
      "source": [
        "%%shell\n",
        "\n",
        "more /content/drive/MyDrive/liste_sp_mappees-rnacentral.txt | xargs -I % curl -s \"https://rnacentral.org/api/v1/overlap/region/%/5:10,000-200,000\" | sed -E 's/[{.*,}]/\\n/g' | egrep \"biotype\" | cut -d \":\" -f 2 | sort | uniq | sed -E 's/^\"(.*[^\"])\"$/\\1/g'\n"
      ],
      "metadata": {
        "id": "kdAtgAlMaB4X"
      },
      "execution_count": null,
      "outputs": []
    },
    {
      "cell_type": "code",
      "source": [
        "%%shell\n",
        "\n",
        "curl -s \"https://rnacentral.org/api/v1/overlap/region/nom_sp/5:10,000-200,000\" | sed -E 's/[{.*,}]/\\n/g' | egrep \"biotype\" | cut -d \":\" -f 2 | sort | uniq | sed -E 's/^\"(.*[^\"])\"$/\\1/g'"
      ],
      "metadata": {
        "colab": {
          "base_uri": "https://localhost:8080/"
        },
        "id": "-RQGh7hmdc81",
        "outputId": "19a5f7b0-e96b-4df4-a3c3-02f7c795633b"
      },
      "execution_count": null,
      "outputs": [
        {
          "output_type": "stream",
          "name": "stdout",
          "text": [
            "piRNA\n",
            "tRNA\n"
          ]
        },
        {
          "output_type": "execute_result",
          "data": {
            "text/plain": []
          },
          "metadata": {},
          "execution_count": 47
        }
      ]
    },
    {
      "cell_type": "markdown",
      "source": [
        "Pour le déroulement de la suite, j'ai besoin de trier les espèces mappées sur rnacentral afin d'en sortir uniquement les espèces mappées au chr5 dans la région souhaitée. Ainsi je vais devoir combiner python et bash."
      ],
      "metadata": {
        "id": "divrpekcd4oU"
      }
    },
    {
      "cell_type": "code",
      "source": [
        "import subprocess\n",
        "\n",
        "#Script pour déterminer si l'espèce a la région souhaitée ou non\n",
        "index='/content/drive/MyDrive/liste_sp_mappees-rnacentral.txt'\n",
        "with open(index, 'r') as x:\n",
        "    L = [line.strip() for line in x]\n",
        "\n",
        "\n",
        "#trions maintenant selon l'output du chr5\n",
        "#pour les tests essayons avec L2\n",
        "L2=['aspergillus_niger','homo_sapiens']\n",
        "\n",
        "for nom_sp in L[:]:\n",
        "  bash=f\"curl -s https://rnacentral.org/api/v1/overlap/region/{nom_sp}/5:10000-200000 | sed -E 's/[{{.*,}}]/\\\\n/g' | egrep 'biotype' | cut -d ':' -f 2 | sort | uniq | sed -E 's/^\\\"(.*[^\\\"])\\\"$/\\\\1/g'\"\n",
        "  result = subprocess.run(bash, shell=True, capture_output=True, text=True)\n",
        "  print(result)\n",
        "  if not result.stdout.strip(): #on trie selon le \"stdout\" qui est soit vide -> stdout='' soit rempli stdout='lncRNA\\npiRNA\\nsRNA\\nY_RNA\\n'\n",
        "    L.remove(nom_sp)\n",
        "\n",
        "#À la fin de ce script, L contient uniquement les espèces mappées.\n",
        "print(L)\n",
        "\n",
        "index2='/content/drive/MyDrive/liste_sp_mappees.txt'\n",
        "\n",
        "#On enregistre la list des sp mappees en .txt.\n",
        "with open(index2, 'w') as liste:\n",
        "    for item in L:\n",
        "        liste.write(f\"{item}\\n\")\n"
      ],
      "metadata": {
        "id": "yLHaaraQeEzJ"
      },
      "execution_count": null,
      "outputs": []
    },
    {
      "cell_type": "markdown",
      "source": [
        "J'ai maintenant ma liste des espèces mappées sur la région souhaitée. Je peux extraite leurs types d'ARN."
      ],
      "metadata": {
        "id": "xY8dZPVkm0q3"
      }
    },
    {
      "cell_type": "code",
      "source": [
        "import subprocess\n",
        "\n",
        "index='/content/drive/MyDrive/liste_sp_mappees.txt'\n",
        "with open(index, 'r') as x:\n",
        "    L = [line.strip() for line in x]\n",
        "L2=[]\n",
        "for nom_sp in L[:]:\n",
        "  bash=f\"curl -s https://rnacentral.org/api/v1/overlap/region/{nom_sp}/5:10000-200000 | sed -E 's/[{{.*,}}]/\\\\n/g' | egrep 'biotype' | cut -d ':' -f 2 | sort | uniq | sed -E 's/^\\\"(.*[^\\\"])\\\"$/\\\\1/g'\"\n",
        "  result = subprocess.run(bash, shell=True, capture_output=True, text=True)\n",
        "  L2.append([nom_sp,result.stdout.strip()])\n",
        "\n",
        "print(L2)\n",
        "\n",
        "index2='/content/drive/MyDrive/liste_arn_et_sp.txt'\n",
        "\n",
        "with open(index2, 'w') as liste:\n",
        "    for item in L2:\n",
        "        liste.write(f\"{item}\\n\")"
      ],
      "metadata": {
        "colab": {
          "base_uri": "https://localhost:8080/"
        },
        "id": "a1xqsbGtplUI",
        "outputId": "26e11645-08eb-463a-9fbe-ff06c80902f4"
      },
      "execution_count": null,
      "outputs": [
        {
          "output_type": "stream",
          "name": "stdout",
          "text": [
            "[['ailuropoda_melanoleuca', 'tRNA'], ['arabidopsis_lyrata', 'tRNA'], ['arabidopsis_thaliana', 'lncRNA\\nmisc_RNA\\nsiRNA\\nsnoRNA\\nsnRNA\\nsRNA\\ntRNA'], ['arabis_alpina', 'tRNA'], ['aspergillus_oryzae', 'rRNA\\ntRNA'], ['betta_splendens', 'snRNA'], ['bos_grunniens', 'lncRNA'], ['bos_indicus_hybrid', 'lncRNA'], ['bos_taurus', 'piRNA\\ntRNA'], ['brachypodium_distachyon', 'misc_RNA\\nrRNA'], ['callithrix_jacchus', 'rRNA'], ['canis_lupus_familiaris', 'miRNA\\npre_miRNA'], ['capsicum_annuum', 'lncRNA'], ['cervus_hanglu_yarkandensis', 'lncRNA'], ['chlamydomonas_reinhardtii', 'lncRNA\\nmisc_RNA'], ['chlorocebus_sabaeus', 'Y_RNA'], ['ciona_intestinalis', 'miRNA\\nmisc_RNA'], ['coturnix_japonica', 'lncRNA'], ['cryptococcus_neoformans', 'tRNA'], ['cucumis_sativus', 'tRNA'], ['cyanidioschyzon_merolae', 'misc_RNA\\ntRNA'], ['denticeps_clupeoides', 'lncRNA'], ['dictyostelium_discoideum', 'tRNA'], ['echeneis_naucrates', 'snoRNA'], ['equus_asinus', 'lncRNA'], ['equus_caballus', 'lncRNA'], ['fusarium_solani', 'rRNA'], ['gadus_morhua', 'lncRNA\\nmiRNA\\nrRNA\\ntRNA'], ['gallus_gallus', 'lncRNA'], ['gorilla_gorilla', 'lncRNA'], ['gossypium_raimondii', 'lncRNA\\nmiRNA\\npre_miRNA\\ntRNA'], ['gouania_willdenowi', 'lncRNA'], ['helianthus_annuus', 'lncRNA'], ['homo_sapiens', 'lncRNA\\npiRNA\\nsRNA\\nY_RNA'], ['lactuca_sativa', 'lncRNA'], ['macaca_mulatta', 'miRNA\\npre_miRNA\\nSRP_RNA'], ['magnaporthe_oryzae', 'tRNA'], ['malus_domestica_golden', 'lncRNA'], ['mastacembelus_armatus', 'lncRNA'], ['medicago_truncatula', 'lncRNA\\nmiRNA\\npre_miRNA'], ['monodelphis_domestica', 'lncRNA'], ['nomascus_leucogenys', 'snRNA\\nSRP_RNA\\ntRNA'], ['olea_europaea', 'lncRNA'], ['oryctolagus_cuniculus', 'lncRNA'], ['oryza_barthii', 'pre_miRNA'], ['oryza_brachyantha', 'lncRNA\\nncRNA\\npre_miRNA'], ['oryza_glaberrima', 'pre_miRNA'], ['oryza_glumipatula', 'pre_miRNA'], ['oryza_indica', 'lncRNA\\nmiRNA\\npre_miRNA'], ['oryza_nivara', 'pre_miRNA'], ['oryza_punctata', 'snoRNA'], ['oryza_rufipogon', 'pre_miRNA'], ['oryza_sativa', 'miRNA\\npre_miRNA\\nsRNA'], ['ovis_aries', 'tRNA'], ['pan_troglodytes', 'lncRNA\\nsRNA\\nY_RNA'], ['papio_anubis', 'lncRNA'], ['parambassis_ranga', 'lncRNA'], ['physcomitrium_patens', 'lncRNA'], ['plasmodium_falciparum', 'antisense_RNA\\nsRNA'], ['plasmodium_knowlesi', 'ncRNA\\nrRNA'], ['plasmodium_vivax', 'misc_RNA\\nrRNA'], ['pongo_abelii', 'antisense_RNA\\nlncRNA\\nsRNA\\nY_RNA'], ['populus_trichocarpa', 'lncRNA\\nmiRNA\\npre_miRNA'], ['rattus_norvegicus', 'lncRNA\\npiRNA\\nrRNA\\ntRNA'], ['sarcophilus_harrisii', 'snRNA'], ['scophthalmus_maximus', 'lncRNA'], ['setaria_viridis', 'lncRNA'], ['solanum_lycopersicum', 'sRNA\\ntRNA'], ['solanum_tuberosum', 'lncRNA\\nrRNA\\nSRP_RNA'], ['sorghum_bicolor', 'lncRNA'], ['sparus_aurata', 'lncRNA'], ['sporisorium_reilianum', 'tRNA'], ['strigops_habroptila', 'lncRNA'], ['suricata_suricatta', 'SRP_RNA'], ['sus_scrofa', 'lncRNA'], ['thalassiosira_pseudonana', 'tRNA'], ['trichoderma_virens', 'rRNA'], ['trypanosoma_brucei', 'tRNA'], ['ustilago_maydis', 'rRNA\\ntRNA'], ['vitis_vinifera', 'miRNA\\npre_miRNA\\nsnoRNA\\ntRNA'], ['zymoseptoria_tritici', 'tRNA']]\n"
          ]
        }
      ]
    },
    {
      "cell_type": "markdown",
      "source": [
        "J'ai maintenant les données que je souhaite. Je vais pouvoir les analyser.\n",
        "\n"
      ],
      "metadata": {
        "id": "_KN-TfppsR2n"
      }
    },
    {
      "cell_type": "code",
      "source": [
        "import matplotlib.pyplot as plt\n",
        "import pandas as pd\n",
        "import ast\n",
        "\n",
        "with open('/content/drive/MyDrive/liste_arn_et_sp.txt', 'r') as file:\n",
        "    lines = file.readlines()\n",
        "\n",
        "# Convertir les lignes en listes en utilisant ast.literal_eval\n",
        "data_list = [ast.literal_eval(line.strip()) for line in lines]\n",
        "print(data_list)\n",
        "# Créer un DataFrame\n",
        "df = pd.DataFrame(data_list, columns=['espèce', 'RNAtype'])\n",
        "\n",
        "df['RNAtype'] = df['RNAtype'].str.split('\\n')  # Séparer les types par saut de ligne\n",
        "\n",
        "# Exploser le DataFrame pour avoir une ligne par type d'ARN\n",
        "df_exploded = df.explode('RNAtype')\n",
        "\n",
        "\n",
        "\n",
        "index2='/content/drive/MyDrive/dataframe_chr510000-200000_typearn.txt'\n",
        "\n",
        "# Afficher le DataFrame final\n",
        "print(df_exploded)\n",
        "df_exploded.to_excel(\"/content/drive/MyDrive/output.xlsx\")\n",
        "#Essayons de visualiser concrètement ces données avec des histogrammes de répartitions.\n",
        "\n",
        "comptages_ARN=df_exploded['RNAtype'].value_counts()\n",
        "#print(comptages_ARN)\n",
        "\n",
        "#barchart avec le comptages\n",
        "#plt.figure(figsize=(10, 6))\n",
        "#comptages_ARN.plot(kind='bar', color='red')\n",
        "#plt.ylabel('Nombre sp où RNA est présent')\n",
        "#plt.xticks(rotation=45)\n",
        "#plt.grid(axis='y')\n",
        "#plt.tight_layout()\n",
        "#plt.show()\n",
        "\n",
        "\n",
        "\n"
      ],
      "metadata": {
        "colab": {
          "base_uri": "https://localhost:8080/"
        },
        "id": "tsV3yix3sbx-",
        "outputId": "d69b051c-ccde-4a85-c3a0-d825af588a9f"
      },
      "execution_count": 3,
      "outputs": [
        {
          "output_type": "stream",
          "name": "stdout",
          "text": [
            "[['ailuropoda_melanoleuca', 'tRNA'], ['arabidopsis_lyrata', 'tRNA'], ['arabidopsis_thaliana', 'lncRNA\\nmisc_RNA\\nsiRNA\\nsnoRNA\\nsnRNA\\nsRNA\\ntRNA'], ['arabis_alpina', 'tRNA'], ['aspergillus_oryzae', 'rRNA\\ntRNA'], ['betta_splendens', 'snRNA'], ['bos_grunniens', 'lncRNA'], ['bos_indicus_hybrid', 'lncRNA'], ['bos_taurus', 'piRNA\\ntRNA'], ['brachypodium_distachyon', 'misc_RNA\\nrRNA'], ['callithrix_jacchus', 'rRNA'], ['canis_lupus_familiaris', 'miRNA\\npre_miRNA'], ['capsicum_annuum', 'lncRNA'], ['cervus_hanglu_yarkandensis', 'lncRNA'], ['chlamydomonas_reinhardtii', 'lncRNA\\nmisc_RNA'], ['chlorocebus_sabaeus', 'Y_RNA'], ['ciona_intestinalis', 'miRNA\\nmisc_RNA'], ['coturnix_japonica', 'lncRNA'], ['cryptococcus_neoformans', 'tRNA'], ['cucumis_sativus', 'tRNA'], ['cyanidioschyzon_merolae', 'misc_RNA\\ntRNA'], ['denticeps_clupeoides', 'lncRNA'], ['dictyostelium_discoideum', 'tRNA'], ['echeneis_naucrates', 'snoRNA'], ['equus_asinus', 'lncRNA'], ['equus_caballus', 'lncRNA'], ['fusarium_solani', 'rRNA'], ['gadus_morhua', 'lncRNA\\nmiRNA\\nrRNA\\ntRNA'], ['gallus_gallus', 'lncRNA'], ['gorilla_gorilla', 'lncRNA'], ['gossypium_raimondii', 'lncRNA\\nmiRNA\\npre_miRNA\\ntRNA'], ['gouania_willdenowi', 'lncRNA'], ['helianthus_annuus', 'lncRNA'], ['homo_sapiens', 'lncRNA\\npiRNA\\nsRNA\\nY_RNA'], ['lactuca_sativa', 'lncRNA'], ['macaca_mulatta', 'miRNA\\npre_miRNA\\nSRP_RNA'], ['magnaporthe_oryzae', 'tRNA'], ['malus_domestica_golden', 'lncRNA'], ['mastacembelus_armatus', 'lncRNA'], ['medicago_truncatula', 'lncRNA\\nmiRNA\\npre_miRNA'], ['monodelphis_domestica', 'lncRNA'], ['nomascus_leucogenys', 'snRNA\\nSRP_RNA\\ntRNA'], ['olea_europaea', 'lncRNA'], ['oryctolagus_cuniculus', 'lncRNA'], ['oryza_barthii', 'pre_miRNA'], ['oryza_brachyantha', 'lncRNA\\nncRNA\\npre_miRNA'], ['oryza_glaberrima', 'pre_miRNA'], ['oryza_glumipatula', 'pre_miRNA'], ['oryza_indica', 'lncRNA\\nmiRNA\\npre_miRNA'], ['oryza_nivara', 'pre_miRNA'], ['oryza_punctata', 'snoRNA'], ['oryza_rufipogon', 'pre_miRNA'], ['oryza_sativa', 'miRNA\\npre_miRNA\\nsRNA'], ['ovis_aries', 'tRNA'], ['pan_troglodytes', 'lncRNA\\nsRNA\\nY_RNA'], ['papio_anubis', 'lncRNA'], ['parambassis_ranga', 'lncRNA'], ['physcomitrium_patens', 'lncRNA'], ['plasmodium_falciparum', 'antisense_RNA\\nsRNA'], ['plasmodium_knowlesi', 'ncRNA\\nrRNA'], ['plasmodium_vivax', 'misc_RNA\\nrRNA'], ['pongo_abelii', 'antisense_RNA\\nlncRNA\\nsRNA\\nY_RNA'], ['populus_trichocarpa', 'lncRNA\\nmiRNA\\npre_miRNA'], ['rattus_norvegicus', 'lncRNA\\npiRNA\\nrRNA\\ntRNA'], ['sarcophilus_harrisii', 'snRNA'], ['scophthalmus_maximus', 'lncRNA'], ['setaria_viridis', 'lncRNA'], ['solanum_lycopersicum', 'sRNA\\ntRNA'], ['solanum_tuberosum', 'lncRNA\\nrRNA\\nSRP_RNA'], ['sorghum_bicolor', 'lncRNA'], ['sparus_aurata', 'lncRNA'], ['sporisorium_reilianum', 'tRNA'], ['strigops_habroptila', 'lncRNA'], ['suricata_suricatta', 'SRP_RNA'], ['sus_scrofa', 'lncRNA'], ['thalassiosira_pseudonana', 'tRNA'], ['trichoderma_virens', 'rRNA'], ['trypanosoma_brucei', 'tRNA'], ['ustilago_maydis', 'rRNA\\ntRNA'], ['vitis_vinifera', 'miRNA\\npre_miRNA\\nsnoRNA\\ntRNA'], ['zymoseptoria_tritici', 'tRNA']]\n",
            "                    espèce    RNAtype\n",
            "0   ailuropoda_melanoleuca       tRNA\n",
            "1       arabidopsis_lyrata       tRNA\n",
            "2     arabidopsis_thaliana     lncRNA\n",
            "2     arabidopsis_thaliana   misc_RNA\n",
            "2     arabidopsis_thaliana      siRNA\n",
            "..                     ...        ...\n",
            "79          vitis_vinifera      miRNA\n",
            "79          vitis_vinifera  pre_miRNA\n",
            "79          vitis_vinifera     snoRNA\n",
            "79          vitis_vinifera       tRNA\n",
            "80    zymoseptoria_tritici       tRNA\n",
            "\n",
            "[135 rows x 2 columns]\n"
          ]
        }
      ]
    }
  ]
}